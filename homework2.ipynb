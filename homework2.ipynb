{
 "cells": [
  {
   "cell_type": "markdown",
   "metadata": {},
   "source": [
    "# Car Fuel Efficiency Regression Homework Solution\n",
    "This Jupyter Notebook walks through all tasks in the assignment, including EDA, data preparation, model training, and evaluation for questions 1–6."
   ]
  },
  {
   "cell_type": "code",
   "execution_count": 5,
   "metadata": {},
   "outputs": [],
   "source": [
    "import pandas as pd\n",
    "import numpy as np\n",
    "import matplotlib.pyplot as plt\n",
    "from sklearn.model_selection import train_test_split\n",
    "from sklearn.linear_model import LinearRegression, Ridge\n",
    "from sklearn.metrics import mean_squared_error"
   ]
  },
  {
   "cell_type": "code",
   "execution_count": 2,
   "metadata": {},
   "outputs": [],
   "source": [
    "# Load dataset\n",
    "url = \"https://raw.githubusercontent.com/alexeygrigorev/datasets/master/car_fuel_efficiency.csv\"\n",
    "df = pd.read_csv(url)"
   ]
  },
  {
   "cell_type": "code",
   "execution_count": 3,
   "metadata": {},
   "outputs": [],
   "source": [
    "# Filter relevant columns\n",
    "cols = ['engine_displacement', 'horsepower', 'vehicle_weight', 'model_year', 'fuel_efficiency_mpg']\n",
    "df = df[cols]"
   ]
  },
  {
   "cell_type": "code",
   "execution_count": 4,
   "metadata": {},
   "outputs": [
    {
     "data": {
      "text/html": [
       "<div>\n",
       "<style scoped>\n",
       "    .dataframe tbody tr th:only-of-type {\n",
       "        vertical-align: middle;\n",
       "    }\n",
       "\n",
       "    .dataframe tbody tr th {\n",
       "        vertical-align: top;\n",
       "    }\n",
       "\n",
       "    .dataframe thead th {\n",
       "        text-align: right;\n",
       "    }\n",
       "</style>\n",
       "<table border=\"1\" class=\"dataframe\">\n",
       "  <thead>\n",
       "    <tr style=\"text-align: right;\">\n",
       "      <th></th>\n",
       "      <th>engine_displacement</th>\n",
       "      <th>horsepower</th>\n",
       "      <th>vehicle_weight</th>\n",
       "      <th>model_year</th>\n",
       "      <th>fuel_efficiency_mpg</th>\n",
       "    </tr>\n",
       "  </thead>\n",
       "  <tbody>\n",
       "    <tr>\n",
       "      <th>0</th>\n",
       "      <td>170</td>\n",
       "      <td>159.0</td>\n",
       "      <td>3413.433759</td>\n",
       "      <td>2003</td>\n",
       "      <td>13.231729</td>\n",
       "    </tr>\n",
       "    <tr>\n",
       "      <th>1</th>\n",
       "      <td>130</td>\n",
       "      <td>97.0</td>\n",
       "      <td>3149.664934</td>\n",
       "      <td>2007</td>\n",
       "      <td>13.688217</td>\n",
       "    </tr>\n",
       "    <tr>\n",
       "      <th>2</th>\n",
       "      <td>170</td>\n",
       "      <td>78.0</td>\n",
       "      <td>3079.038997</td>\n",
       "      <td>2018</td>\n",
       "      <td>14.246341</td>\n",
       "    </tr>\n",
       "    <tr>\n",
       "      <th>3</th>\n",
       "      <td>220</td>\n",
       "      <td>NaN</td>\n",
       "      <td>2542.392402</td>\n",
       "      <td>2009</td>\n",
       "      <td>16.912736</td>\n",
       "    </tr>\n",
       "    <tr>\n",
       "      <th>4</th>\n",
       "      <td>210</td>\n",
       "      <td>140.0</td>\n",
       "      <td>3460.870990</td>\n",
       "      <td>2009</td>\n",
       "      <td>12.488369</td>\n",
       "    </tr>\n",
       "  </tbody>\n",
       "</table>\n",
       "</div>"
      ],
      "text/plain": [
       "   engine_displacement  horsepower  vehicle_weight  model_year  \\\n",
       "0                  170       159.0     3413.433759        2003   \n",
       "1                  130        97.0     3149.664934        2007   \n",
       "2                  170        78.0     3079.038997        2018   \n",
       "3                  220         NaN     2542.392402        2009   \n",
       "4                  210       140.0     3460.870990        2009   \n",
       "\n",
       "   fuel_efficiency_mpg  \n",
       "0            13.231729  \n",
       "1            13.688217  \n",
       "2            14.246341  \n",
       "3            16.912736  \n",
       "4            12.488369  "
      ]
     },
     "execution_count": 4,
     "metadata": {},
     "output_type": "execute_result"
    }
   ],
   "source": [
    "df.head()"
   ]
  },
  {
   "cell_type": "markdown",
   "metadata": {},
   "source": [
    "## EDA "
   ]
  },
  {
   "cell_type": "code",
   "execution_count": 6,
   "metadata": {},
   "outputs": [],
   "source": [
    "# Filter relevant column\n",
    "fe = df['fuel_efficiency_mpg']"
   ]
  },
  {
   "cell_type": "code",
   "execution_count": 7,
   "metadata": {},
   "outputs": [
    {
     "name": "stdout",
     "output_type": "stream",
     "text": [
      "count    9704.000000\n",
      "mean       14.985243\n",
      "std         2.556468\n",
      "min         6.200971\n",
      "25%        13.267459\n",
      "50%        15.006037\n",
      "75%        16.707965\n",
      "max        25.967222\n",
      "Name: fuel_efficiency_mpg, dtype: float64\n"
     ]
    }
   ],
   "source": [
    "# Summary statistics\n",
    "print(fe.describe())\n"
   ]
  },
  {
   "cell_type": "code",
   "execution_count": 8,
   "metadata": {},
   "outputs": [
    {
     "data": {
      "image/png": "[encoded data removed]",
      "text/plain": [
       "<Figure size 432x288 with 1 Axes>"
      ]
     },
     "metadata": {
      "needs_background": "light"
     },
     "output_type": "display_data"
    }
   ],
   "source": [
    "# Histogram\n",
    "plt.hist(fe, bins=30, edgecolor='k')\n",
    "plt.xlabel('Fuel Efficiency (mpg)')\n",
    "plt.ylabel('Count')\n",
    "plt.title('Distribution of Fuel Efficiency')\n",
    "plt.show()"
   ]
  },
  {
   "cell_type": "markdown",
   "metadata": {},
   "source": [
    "Min: 6.2\n",
    "\n",
    "Max: 25.97\n",
    "\n",
    "Median (50%): 15.0\n",
    "\n",
    "Mean: 14.99\n",
    "\n",
    "Observations:\n",
    "\n",
    "The mean and median are very close, suggesting a roughly symmetric distribution around the center.\n",
    "\n",
    "However, the maximum value (≈26) is quite a bit higher than the 75th percentile (≈16.7). That indicates there are some unusually high values.\n",
    "\n",
    "The minimum is much lower than the mean, but the lower values are closer to the 25th percentile, so the extreme is more on the high side.\n",
    "\n",
    "✅ Conclusion: The distribution has a long right tail (skewed to higher mpg), meaning a few cars are much more fuel-efficient than the majority."
   ]
  },
  {
   "cell_type": "code",
   "execution_count": 9,
   "metadata": {},
   "outputs": [
    {
     "name": "stdout",
     "output_type": "stream",
     "text": [
      "engine_displacement      0\n",
      "horsepower             708\n",
      "vehicle_weight           0\n",
      "model_year               0\n",
      "fuel_efficiency_mpg      0\n",
      "dtype: int64\n"
     ]
    }
   ],
   "source": [
    "# Q1: Which column has missing values?\n",
    "print(df.isna().sum())\n",
    "# Answer: 'horsepower'\n"
   ]
  },
  {
   "cell_type": "code",
   "execution_count": 10,
   "metadata": {},
   "outputs": [
    {
     "name": "stdout",
     "output_type": "stream",
     "text": [
      "149.0\n"
     ]
    }
   ],
   "source": [
    "# Q2: Median of horsepower\n",
    "print(df['horsepower'].median())\n",
    "# Answer: 149"
   ]
  },
  {
   "cell_type": "code",
   "execution_count": 11,
   "metadata": {},
   "outputs": [],
   "source": [
    "# Prepare and split dataset\n",
    "def split_data(seed):\n",
    "    df_shuffled = df.sample(frac=1, random_state=seed).reset_index(drop=True)\n",
    "    n = len(df_shuffled)\n",
    "    n_train = int(0.6 * n)\n",
    "    n_val = int(0.2 * n)\n",
    "    df_train = df_shuffled.iloc[:n_train]\n",
    "    df_val = df_shuffled.iloc[n_train:n_train+n_val]\n",
    "    df_test = df_shuffled.iloc[n_train+n_val:]\n",
    "    return df_train, df_val, df_test"
   ]
  },
  {
   "cell_type": "code",
   "execution_count": 12,
   "metadata": {},
   "outputs": [],
   "source": [
    "df_train, df_val, df_test = split_data(42)"
   ]
  },
  {
   "cell_type": "code",
   "execution_count": 14,
   "metadata": {},
   "outputs": [
    {
     "name": "stdout",
     "output_type": "stream",
     "text": [
      "zero 0.52\n",
      "mean 0.46\n"
     ]
    }
   ],
   "source": [
    "# Q3: Fill missing horsepower with 0 or mean and evaluate\n",
    "for method in ['zero', 'mean']:\n",
    "    df_train_copy = df_train.copy()\n",
    "    df_val_copy = df_val.copy()\n",
    "    if method == 'zero':\n",
    "        df_train_copy['horsepower'] = df_train_copy['horsepower'].fillna(0)\n",
    "        df_val_copy['horsepower'] = df_val_copy['horsepower'].fillna(0)\n",
    "    else:\n",
    "        mean_hp = df_train_copy['horsepower'].mean()\n",
    "        df_train_copy['horsepower'] = df_train_copy['horsepower'].fillna(mean_hp)\n",
    "        df_val_copy['horsepower'] = df_val_copy['horsepower'].fillna(mean_hp)\n",
    "\n",
    "    X_train = df_train_copy.drop('fuel_efficiency_mpg', axis=1)\n",
    "    y_train = df_train_copy['fuel_efficiency_mpg']\n",
    "    X_val = df_val_copy.drop('fuel_efficiency_mpg', axis=1)\n",
    "    y_val = df_val_copy['fuel_efficiency_mpg']\n",
    "\n",
    "    lr = LinearRegression()\n",
    "    lr.fit(X_train, y_train)\n",
    "    y_pred = lr.predict(X_val)\n",
    "    rmse = np.sqrt(mean_squared_error(y_val, y_pred))\n",
    "    print(method, round(rmse, 2))\n",
    "# Answer: Choose the option with lower RMSE"
   ]
  },
  {
   "cell_type": "markdown",
   "metadata": {},
   "source": [
    "With the mean, we obtain a lower RMSE"
   ]
  },
  {
   "cell_type": "code",
   "execution_count": 20,
   "metadata": {},
   "outputs": [
    {
     "name": "stdout",
     "output_type": "stream",
     "text": [
      "0 0.52\n",
      "0.01 0.52\n",
      "0.1 0.52\n",
      "1 0.52\n",
      "5 0.52\n",
      "10 0.52\n",
      "100 0.52\n",
      "Best r: 0\n"
     ]
    }
   ],
   "source": [
    "# Q4: Regularized linear regression (Ridge) with NAs filled with 0\n",
    "df_train, df_val, _ = split_data(42)\n",
    "for col in ['horsepower']:\n",
    "    df_train[col] = df_train[col].fillna(0)\n",
    "    df_val[col] = df_val[col].fillna(0)\n",
    "\n",
    "X_train = df_train.drop('fuel_efficiency_mpg', axis=1)\n",
    "y_train = df_train['fuel_efficiency_mpg']\n",
    "X_val = df_val.drop('fuel_efficiency_mpg', axis=1)\n",
    "y_val = df_val['fuel_efficiency_mpg']\n",
    "\n",
    "r_list = [0, 0.01, 0.1, 1, 5, 10, 100]\n",
    "best_rmse = float('inf')\n",
    "best_r = None\n",
    "for r in r_list:\n",
    "    model = Ridge(alpha=r)\n",
    "    model.fit(X_train, y_train)\n",
    "    y_pred = model.predict(X_val)\n",
    "    rmse = np.sqrt(mean_squared_error(y_val, y_pred))\n",
    "    print(r, round(rmse, 2))\n",
    "    \n",
    "    if rmse < best_rmse:\n",
    "        best_rmse = rmse\n",
    "        best_r = r\n",
    "    \n",
    "print(\"Best r:\", best_r)\n",
    "# Answer: best_r"
   ]
  },
  {
   "cell_type": "code",
   "execution_count": 24,
   "metadata": {},
   "outputs": [
    {
     "name": "stdout",
     "output_type": "stream",
     "text": [
      "RMSEs: [0.521, 0.522, 0.523, 0.516, 0.511, 0.529, 0.532, 0.51, 0.515, 0.513]\n",
      "Std of RMSEs: 0.007\n"
     ]
    }
   ],
   "source": [
    "# Q5: Effect of seed\n",
    "# Function to split dataset\n",
    "def split_data(seed):\n",
    "    df_shuffled = df.sample(frac=1, random_state=seed).reset_index(drop=True)\n",
    "    n = len(df_shuffled)\n",
    "    n_train = int(0.6 * n)\n",
    "    n_val = int(0.2 * n)\n",
    "    df_train = df_shuffled.iloc[:n_train]\n",
    "    df_val = df_shuffled.iloc[n_train:n_train+n_val]\n",
    "    df_test = df_shuffled.iloc[n_train+n_val:]\n",
    "    return df_train, df_val, df_test\n",
    "\n",
    "seeds = list(range(10))\n",
    "rmse_list = []\n",
    "\n",
    "for seed in seeds:\n",
    "    df_train, df_val, _ = split_data(seed)\n",
    "    \n",
    "    # Fill missing horsepower with 0\n",
    "    df_train['horsepower'] = df_train['horsepower'].fillna(0)\n",
    "    df_val['horsepower'] = df_val['horsepower'].fillna(0)\n",
    "    \n",
    "    # Prepare features and target\n",
    "    X_train = df_train.drop('fuel_efficiency_mpg', axis=1)\n",
    "    y_train = df_train['fuel_efficiency_mpg']\n",
    "    X_val = df_val.drop('fuel_efficiency_mpg', axis=1)\n",
    "    y_val = df_val['fuel_efficiency_mpg']\n",
    "    \n",
    "    # Train linear regression\n",
    "    lr = LinearRegression()\n",
    "    lr.fit(X_train, y_train)\n",
    "    \n",
    "    # Predict and compute RMSE manually\n",
    "    y_pred = lr.predict(X_val)\n",
    "    rmse = np.sqrt(mean_squared_error(y_val, y_pred))\n",
    "    rmse_list.append(rmse)\n",
    "\n",
    "# Compute standard deviation of RMSEs\n",
    "std_rmse = round(np.std(rmse_list), 3)\n",
    "print(\"RMSEs:\", [round(r, 3) for r in rmse_list])\n",
    "print(\"Std of RMSEs:\", std_rmse)"
   ]
  },
  {
   "cell_type": "code",
   "execution_count": 26,
   "metadata": {},
   "outputs": [
    {
     "name": "stdout",
     "output_type": "stream",
     "text": [
      "Test RMSE: 0.515\n"
     ]
    }
   ],
   "source": [
    "# Q6: Train on train+val, seed=9, r=0.001\n",
    "df_train, df_val, df_test = split_data(9)\n",
    "df_combined = pd.concat([df_train, df_val])\n",
    "df_combined['horsepower'] = df_combined['horsepower'].fillna(0)\n",
    "df_test['horsepower'] = df_test['horsepower'].fillna(0)\n",
    "\n",
    "X_train = df_combined.drop('fuel_efficiency_mpg', axis=1)\n",
    "y_train = df_combined['fuel_efficiency_mpg']\n",
    "X_test = df_test.drop('fuel_efficiency_mpg', axis=1)\n",
    "y_test = df_test['fuel_efficiency_mpg']\n",
    "\n",
    "model = Ridge(alpha=0.001)\n",
    "model.fit(X_train, y_train)\n",
    "y_pred = model.predict(X_test)\n",
    "rmse = np.sqrt(mean_squared_error(y_test, y_pred))\n",
    "print(\"Test RMSE:\", round(rmse, 3))"
   ]
  },
  {
   "cell_type": "code",
   "execution_count": null,
   "metadata": {},
   "outputs": [],
   "source": []
  }
 ],
 "metadata": {
  "kernelspec": {
   "display_name": "Python 3",
   "language": "python",
   "name": "python3"
  },
  "language_info": {
   "codemirror_mode": {
    "name": "ipython",
    "version": 3
   },
   "file_extension": ".py",
   "mimetype": "text/x-python",
   "name": "python",
   "nbconvert_exporter": "python",
   "pygments_lexer": "ipython3",
   "version": "3.7.3"
  }
 },
 "nbformat": 4,
 "nbformat_minor": 5
}
