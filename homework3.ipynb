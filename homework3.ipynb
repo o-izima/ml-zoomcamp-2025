{
 "cells": [
  {
   "cell_type": "code",
   "execution_count": null,
   "id": "9c921e49",
   "metadata": {},
   "outputs": [],
   "source": []
  },
  {
   "cell_type": "code",
   "execution_count": 1,
   "id": "3926b492",
   "metadata": {},
   "outputs": [],
   "source": [
    "\n",
    "import pandas as pd\n",
    "import numpy as np\n",
    "\n",
    "from sklearn.model_selection import train_test_split\n",
    "from sklearn.preprocessing import OneHotEncoder\n",
    "from sklearn.linear_model import LogisticRegression\n",
    "from sklearn.metrics import accuracy_score\n",
    "from sklearn.feature_selection import mutual_info_classif"
   ]
  },
  {
   "cell_type": "code",
   "execution_count": 2,
   "id": "bca5c9bf",
   "metadata": {},
   "outputs": [
    {
     "name": "stdout",
     "output_type": "stream",
     "text": [
      "Rows, cols: (1462, 9)\n",
      "['lead_source', 'industry', 'number_of_courses_viewed', 'annual_income', 'employment_status', 'location', 'interaction_count', 'lead_score', 'converted']\n",
      "1    905\n",
      "0    557\n",
      "Name: converted, dtype: int64\n"
     ]
    }
   ],
   "source": [
    "# 1) Load data\n",
    "url = \"https://raw.githubusercontent.com/alexeygrigorev/datasets/master/course_lead_scoring.csv\"\n",
    "df = pd.read_csv(url)\n",
    "\n",
    "# Quick look\n",
    "print(\"Rows, cols:\", df.shape)\n",
    "print(df.columns.tolist())\n",
    "\n",
    "# The target column name in this dataset is 'converted' (0/1) or similar.\n",
    "# Inspect to confirm:\n",
    "print(df['converted'].value_counts(dropna=False))"
   ]
  },
  {
   "cell_type": "code",
   "execution_count": 3,
   "id": "02065938",
   "metadata": {},
   "outputs": [
    {
     "name": "stdout",
     "output_type": "stream",
     "text": [
      "Missing counts per column (top 20):\n",
      " annual_income        181\n",
      "industry             134\n",
      "lead_source          128\n",
      "employment_status    100\n",
      "location              63\n",
      "dtype: int64\n"
     ]
    }
   ],
   "source": [
    "# 2) Check missing values\n",
    "missing_counts = df.isna().sum()\n",
    "print(\"Missing counts per column (top 20):\\n\", missing_counts[missing_counts>0].sort_values(ascending=False).head(20))"
   ]
  },
  {
   "cell_type": "code",
   "execution_count": 4,
   "id": "8201d5a3",
   "metadata": {},
   "outputs": [],
   "source": [
    "# 3) Impute missing values:\n",
    "# For categorical => replace NaN with 'NA'\n",
    "# For numeric => replace NaN with 0.0\n",
    "df_imputed = df.copy()\n",
    "\n",
    "for col in df_imputed.columns:\n",
    "    if df_imputed[col].dtype == 'O' or str(df_imputed[col].dtype).startswith('category'):\n",
    "        df_imputed[col] = df_imputed[col].fillna('NA')\n",
    "    else:\n",
    "        # numeric\n",
    "        df_imputed[col] = df_imputed[col].fillna(0.0)"
   ]
  },
  {
   "cell_type": "code",
   "execution_count": 5,
   "id": "e2126ebb",
   "metadata": {},
   "outputs": [
    {
     "name": "stdout",
     "output_type": "stream",
     "text": [
      "Mode of 'industry': retail\n"
     ]
    }
   ],
   "source": [
    "# 4) Q1: mode of 'industry'\n",
    "industry_mode = df_imputed['industry'].mode().iloc[0]\n",
    "print(\"Mode of 'industry':\", industry_mode)\n"
   ]
  },
  {
   "cell_type": "code",
   "execution_count": 6,
   "id": "6bd8a94f",
   "metadata": {},
   "outputs": [
    {
     "name": "stdout",
     "output_type": "stream",
     "text": [
      "Numeric columns: ['number_of_courses_viewed', 'annual_income', 'interaction_count', 'lead_score', 'converted']\n",
      "Correlation matrix (top):\n",
      "                           number_of_courses_viewed  annual_income  \\\n",
      "number_of_courses_viewed                  1.000000       0.009770   \n",
      "annual_income                             0.009770       1.000000   \n",
      "interaction_count                        -0.023565       0.027036   \n",
      "lead_score                               -0.004879       0.015610   \n",
      "converted                                 0.435914       0.053131   \n",
      "\n",
      "                          interaction_count  lead_score  converted  \n",
      "number_of_courses_viewed          -0.023565   -0.004879   0.435914  \n",
      "annual_income                      0.027036    0.015610   0.053131  \n",
      "interaction_count                  1.000000    0.009888   0.374573  \n",
      "lead_score                         0.009888    1.000000   0.193673  \n",
      "converted                          0.374573    0.193673   1.000000  \n",
      "corr(interaction_count,lead_score) = 0.0099\n",
      "corr(number_of_courses_viewed,lead_score) = -0.0049\n",
      "corr(number_of_courses_viewed,interaction_count) = -0.0236\n",
      "corr(annual_income,interaction_count) = 0.0270\n"
     ]
    }
   ],
   "source": [
    "# 5) Correlation matrix for numerical features\n",
    "# Select numeric columns only\n",
    "num_cols = df_imputed.select_dtypes(include=[np.number]).columns.tolist()\n",
    "corr = df_imputed[num_cols].corr()\n",
    "print(\"Numeric columns:\", num_cols)\n",
    "print(\"Correlation matrix (top):\\n\", corr)\n",
    "\n",
    "# For Q2 we will consider the candidate pairs:\n",
    "pairs = [\n",
    "    ('interaction_count', 'lead_score'),\n",
    "    ('number_of_courses_viewed', 'lead_score'),\n",
    "    ('number_of_courses_viewed', 'interaction_count'),\n",
    "    ('annual_income', 'interaction_count')\n",
    "]\n",
    "for a,b in pairs:\n",
    "    if a in corr.index and b in corr.columns:\n",
    "        print(f\"corr({a},{b}) = {corr.loc[a,b]:.4f}\")\n",
    "    else:\n",
    "        print(f\"One of {a} or {b} not numeric/present.\")"
   ]
  },
  {
   "cell_type": "code",
   "execution_count": 7,
   "id": "f2cbdd06",
   "metadata": {},
   "outputs": [
    {
     "name": "stdout",
     "output_type": "stream",
     "text": [
      "Sizes: train, val, test = 876 293 293\n"
     ]
    }
   ],
   "source": [
    "# 6) Split to train / val / test (60/20/20), seed=42\n",
    "# Remove target from feature matrix when transforming etc.\n",
    "df_full = df_imputed.copy()\n",
    "\n",
    "# target name\n",
    "target = 'converted'\n",
    "if target not in df_full.columns:\n",
    "    raise RuntimeError(\"Target 'converted' not found\")\n",
    "\n",
    "# split train_temp (80%) and test (20%)\n",
    "train_val, test = train_test_split(df_full, test_size=0.2, random_state=42, stratify=df_full[target])\n",
    "# from train_val split train (60%) and val (20%): train_val currently 80% -> we want train 60% total => train fraction = 0.75 of train_val\n",
    "train, val = train_test_split(train_val, test_size=0.25, random_state=42, stratify=train_val[target])\n",
    "\n",
    "print(\"Sizes: train, val, test =\", len(train), len(val), len(test))\n",
    "\n",
    "# Ensure target is not present in features when training\n",
    "X_train = train.drop(columns=[target])\n",
    "y_train = train[target].astype(int)\n",
    "\n",
    "X_val = val.drop(columns=[target])\n",
    "y_val = val[target].astype(int)\n",
    "\n",
    "X_test = test.drop(columns=[target])\n",
    "y_test = test[target].astype(int)"
   ]
  },
  {
   "cell_type": "code",
   "execution_count": 8,
   "id": "cc261b71",
   "metadata": {},
   "outputs": [
    {
     "name": "stdout",
     "output_type": "stream",
     "text": [
      "Categorical columns: ['lead_source', 'industry', 'employment_status', 'location']\n",
      "Mutual information (rounded): {'lead_source': 0.03, 'industry': 0.01, 'employment_status': 0.01, 'location': 0.0}\n",
      "Best categorical MI: lead_source 0.03\n"
     ]
    }
   ],
   "source": [
    "# 7) Q3: mutual information between converted and categorical variables (training set only)\n",
    "# Identify categorical columns (object or category)\n",
    "cat_cols = [c for c in X_train.columns if X_train[c].dtype == 'O' or str(X_train[c].dtype).startswith('category')]\n",
    "print(\"Categorical columns:\", cat_cols)\n",
    "\n",
    "# We need to encode categorical columns as integer codes for mutual_info_classif.\n",
    "# Use pandas factorize per column to preserve mapping\n",
    "mi_scores = {}\n",
    "for col in cat_cols:\n",
    "    x = X_train[col].astype(str).fillna('NA')\n",
    "    codes, uniques = pd.factorize(x)\n",
    "    mi = mutual_info_classif(codes.reshape(-1,1), y_train, discrete_features=True, random_state=42)\n",
    "    mi_scores[col] = float(mi[0])\n",
    "\n",
    "# Round scores\n",
    "mi_scores_rounded = {k: round(v, 2) for k,v in mi_scores.items()}\n",
    "print(\"Mutual information (rounded):\", mi_scores_rounded)\n",
    "\n",
    "# Find the categorical variable with highest MI\n",
    "best_cat = max(mi_scores.items(), key=lambda x: x[1])[0]\n",
    "print(\"Best categorical MI:\", best_cat, mi_scores_rounded[best_cat])"
   ]
  },
  {
   "cell_type": "code",
   "execution_count": 9,
   "id": "d454984a",
   "metadata": {},
   "outputs": [
    {
     "name": "stdout",
     "output_type": "stream",
     "text": [
      "Validation accuracy (Q4): 0.73\n"
     ]
    }
   ],
   "source": [
    "# 8) Q4: Logistic regression with one-hot encoding of categorical variables\n",
    "# We'll one-hot encode categorical features (drop='first' to avoid collinearity or keep all - both are common).\n",
    "ohe = OneHotEncoder(handle_unknown='ignore', sparse=False)\n",
    "\n",
    "# Fit on train categorical columns\n",
    "X_train_cat = ohe.fit_transform(X_train[cat_cols])\n",
    "X_val_cat = ohe.transform(X_val[cat_cols])\n",
    "X_test_cat = ohe.transform(X_test[cat_cols])\n",
    "\n",
    "# Numeric columns (remaining)\n",
    "num_cols = [c for c in X_train.columns if c not in cat_cols]\n",
    "\n",
    "X_train_num = X_train[num_cols].values\n",
    "X_val_num = X_val[num_cols].values\n",
    "X_test_num = X_test[num_cols].values\n",
    "\n",
    "# Concatenate\n",
    "X_train_enc = np.hstack([X_train_num, X_train_cat])\n",
    "X_val_enc = np.hstack([X_val_num, X_val_cat])\n",
    "X_test_enc = np.hstack([X_test_num, X_test_cat])\n",
    "\n",
    "# Fit logistic regression with given params\n",
    "model = LogisticRegression(solver='liblinear', C=1.0, max_iter=1000, random_state=42)\n",
    "model.fit(X_train_enc, y_train)\n",
    "\n",
    "# Predict on validation set\n",
    "y_val_pred = model.predict(X_val_enc)\n",
    "val_acc = accuracy_score(y_val, y_val_pred)\n",
    "print(\"Validation accuracy (Q4):\", round(val_acc, 2))"
   ]
  },
  {
   "cell_type": "code",
   "execution_count": 15,
   "id": "ca530efb",
   "metadata": {},
   "outputs": [
    {
     "name": "stdout",
     "output_type": "stream",
     "text": [
      "C=0.01 -> Validation accuracy: 0.734\n",
      "C=0.1 -> Validation accuracy: 0.73\n",
      "C=1 -> Validation accuracy: 0.73\n",
      "C=10 -> Validation accuracy: 0.73\n",
      "C=100 -> Validation accuracy: 0.73\n",
      "\n",
      "Validation accuracies per C: {0.01: 0.734, 0.1: 0.73, 1: 0.73, 10: 0.73, 100: 0.73}\n",
      "Best C (choose smallest if tie): 0.01\n"
     ]
    }
   ],
   "source": [
    "import pandas as pd\n",
    "import numpy as np\n",
    "from sklearn.model_selection import train_test_split\n",
    "from sklearn.preprocessing import OneHotEncoder\n",
    "from sklearn.linear_model import LogisticRegression\n",
    "from sklearn.metrics import accuracy_score\n",
    "\n",
    "# 1. Load dataset\n",
    "url = \"https://raw.githubusercontent.com/alexeygrigorev/datasets/master/course_lead_scoring.csv\"\n",
    "df = pd.read_csv(url)\n",
    "\n",
    "# 2. Handle missing values\n",
    "for col in df.columns:\n",
    "    if df[col].dtype == 'O' or str(df[col].dtype).startswith('category'):\n",
    "        df[col] = df[col].fillna('NA')\n",
    "    else:\n",
    "        df[col] = df[col].fillna(0.0)\n",
    "\n",
    "# 3. Split into train / val / test (60/20/20)\n",
    "target = 'converted'\n",
    "df_full = df.copy()\n",
    "\n",
    "train_val, test = train_test_split(df_full, test_size=0.2, random_state=42, stratify=df_full[target])\n",
    "train, val = train_test_split(train_val, test_size=0.25, random_state=42, stratify=train_val[target])\n",
    "\n",
    "X_train = train.drop(columns=[target])\n",
    "y_train = train[target].astype(int)\n",
    "X_val = val.drop(columns=[target])\n",
    "y_val = val[target].astype(int)\n",
    "\n",
    "# 4. Identify categorical and numerical columns\n",
    "cat_cols = [c for c in X_train.columns if X_train[c].dtype == 'O' or str(X_train[c].dtype).startswith('category')]\n",
    "num_cols = [c for c in X_train.columns if c not in cat_cols]\n",
    "\n",
    "# 5. One-hot encode categorical features\n",
    "ohe = OneHotEncoder(handle_unknown='ignore', sparse=False)\n",
    "X_train_cat = ohe.fit_transform(X_train[cat_cols])\n",
    "X_val_cat = ohe.transform(X_val[cat_cols])\n",
    "\n",
    "X_train_num = X_train[num_cols].values\n",
    "X_val_num = X_val[num_cols].values\n",
    "\n",
    "X_train_enc = np.hstack([X_train_num, X_train_cat])\n",
    "X_val_enc = np.hstack([X_val_num, X_val_cat])\n",
    "\n",
    "# 6. Train regularized logistic regression for different C values\n",
    "Cs = [0.01, 0.1, 1, 10, 100]\n",
    "results_C = {}\n",
    "\n",
    "for C in Cs:\n",
    "    model = LogisticRegression(solver='liblinear', C=C, max_iter=1000, random_state=42)\n",
    "    model.fit(X_train_enc, y_train)\n",
    "    y_val_pred = model.predict(X_val_enc)\n",
    "    acc_val = round(accuracy_score(y_val, y_val_pred), 3)\n",
    "    results_C[C] = acc_val\n",
    "    print(f\"C={C} -> Validation accuracy: {acc_val}\")\n",
    "\n",
    "# 7. Determine best C (smallest C in case of tie)\n",
    "best_C = min([c for c,a in results_C.items() if a == max(results_C.values())])\n",
    "\n",
    "print(\"\\nValidation accuracies per C:\", results_C)\n",
    "print(f\"Best C (choose smallest if tie): {best_C}\")\n"
   ]
  },
  {
   "cell_type": "code",
   "execution_count": null,
   "id": "ce6e1902",
   "metadata": {},
   "outputs": [],
   "source": []
  }
 ],
 "metadata": {
  "kernelspec": {
   "display_name": "Python 3 (ipykernel)",
   "language": "python",
   "name": "python3"
  },
  "language_info": {
   "codemirror_mode": {
    "name": "ipython",
    "version": 3
   },
   "file_extension": ".py",
   "mimetype": "text/x-python",
   "name": "python",
   "nbconvert_exporter": "python",
   "pygments_lexer": "ipython3",
   "version": "3.7.6"
  }
 },
 "nbformat": 4,
 "nbformat_minor": 5
}
