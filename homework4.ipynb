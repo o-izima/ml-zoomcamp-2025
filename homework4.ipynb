{
 "cells": [
  {
   "cell_type": "code",
   "execution_count": 1,
   "metadata": {},
   "outputs": [],
   "source": [
    "import pandas as pd\n",
    "import numpy as np\n",
    "from sklearn.model_selection import train_test_split, KFold\n",
    "from sklearn.metrics import roc_auc_score, precision_score, recall_score\n",
    "from sklearn.linear_model import LogisticRegression\n",
    "from sklearn.feature_extraction import DictVectorizer\n",
    "import matplotlib.pyplot as plt\n"
   ]
  },
  {
   "cell_type": "markdown",
   "metadata": {},
   "source": [
    "## Data Preparation (✅ 60/20/20 Split)"
   ]
  },
  {
   "cell_type": "code",
   "execution_count": 2,
   "metadata": {},
   "outputs": [],
   "source": [
    "# Load dataset\n",
    "url = \"https://raw.githubusercontent.com/alexeygrigorev/datasets/master/course_lead_scoring.csv\"\n",
    "df = pd.read_csv(url)\n",
    "\n",
    "# Replace missing values\n",
    "for c in df.columns:\n",
    "    if df[c].dtype == 'O':  # categorical\n",
    "        df[c] = df[c].fillna('NA')\n",
    "    else:  # numerical\n",
    "        df[c] = df[c].fillna(0.0)\n",
    "\n",
    "# Define target\n",
    "y = df.converted.values\n",
    "df = df.drop('converted', axis=1)"
   ]
  },
  {
   "cell_type": "code",
   "execution_count": 3,
   "metadata": {},
   "outputs": [
    {
     "name": "stdout",
     "output_type": "stream",
     "text": [
      "Train size: 0.60\n",
      "Validation size: 0.20\n",
      "Test size: 0.20\n"
     ]
    }
   ],
   "source": [
    "# ---- FIRST SPLIT (train vs temp: 60% / 40%) ----\n",
    "df_train, df_temp, y_train, y_temp = train_test_split(\n",
    "    df, y, test_size=0.4, random_state=1\n",
    ")\n",
    "\n",
    "# ---- SECOND SPLIT (val vs test: 20% / 20%) ----\n",
    "df_val, df_test, y_val, y_test = train_test_split(\n",
    "    df_temp, y_temp, test_size=0.5, random_state=1\n",
    ")\n",
    "\n",
    "# Check proportions\n",
    "print(f\"Train size: {len(df_train)/len(df):.2f}\")\n",
    "print(f\"Validation size: {len(df_val)/len(df):.2f}\")\n",
    "print(f\"Test size: {len(df_test)/len(df):.2f}\")"
   ]
  },
  {
   "cell_type": "markdown",
   "metadata": {},
   "source": [
    "## Question 1: ROC AUC Feature Importance"
   ]
  },
  {
   "cell_type": "code",
   "execution_count": 4,
   "metadata": {},
   "outputs": [
    {
     "name": "stdout",
     "output_type": "stream",
     "text": [
      "ROC AUC per numeric feature:\n",
      "lead_score: 0.611\n",
      "number_of_courses_viewed: 0.765\n",
      "interaction_count: 0.727\n",
      "annual_income: 0.545\n"
     ]
    }
   ],
   "source": [
    "num_cols = ['lead_score', 'number_of_courses_viewed', 'interaction_count', 'annual_income']\n",
    "roc_values = {}\n",
    "\n",
    "for c in num_cols:\n",
    "    auc = roc_auc_score(y_train, df_train[c])\n",
    "    # If negative correlation, flip sign\n",
    "    if auc < 0.5:\n",
    "        auc = roc_auc_score(y_train, -df_train[c])\n",
    "    roc_values[c] = auc\n",
    "\n",
    "print(\"ROC AUC per numeric feature:\")\n",
    "for k, v in roc_values.items():\n",
    "    print(f\"{k}: {v:.3f}\")\n"
   ]
  },
  {
   "cell_type": "markdown",
   "metadata": {},
   "source": [
    "## Question 2: Train Logistic Regression"
   ]
  },
  {
   "cell_type": "code",
   "execution_count": 6,
   "metadata": {},
   "outputs": [
    {
     "name": "stdout",
     "output_type": "stream",
     "text": [
      "Validation AUC: 0.794\n"
     ]
    }
   ],
   "source": [
    "# One-hot encode\n",
    "dv = DictVectorizer(sparse=False)\n",
    "train_dicts = df_train.to_dict(orient='records')\n",
    "X_train = dv.fit_transform(train_dicts)\n",
    "\n",
    "val_dicts = df_val.to_dict(orient='records')\n",
    "X_val = dv.transform(val_dicts)\n",
    "\n",
    "# Train model\n",
    "model = LogisticRegression(solver='liblinear', C=1.0, max_iter=1000)\n",
    "model.fit(X_train, y_train)\n",
    "\n",
    "# Validation AUC\n",
    "y_pred_val = model.predict_proba(X_val)[:, 1]\n",
    "auc_val = roc_auc_score(y_val, y_pred_val)\n",
    "print(\"Validation AUC:\", round(auc_val, 3))\n"
   ]
  },
  {
   "cell_type": "markdown",
   "metadata": {},
   "source": [
    "## Question 3: Precision and Recall Curves"
   ]
  },
  {
   "cell_type": "code",
   "execution_count": 8,
   "metadata": {},
   "outputs": [
    {
     "data": {
      "image/png": "[encoded data removed]",
      "text/plain": [
       "<Figure size 576x360 with 1 Axes>"
      ]
     },
     "metadata": {
      "needs_background": "light"
     },
     "output_type": "display_data"
    },
    {
     "name": "stdout",
     "output_type": "stream",
     "text": [
      "Precision–Recall intersection threshold: 0.59\n"
     ]
    }
   ],
   "source": [
    "import numpy as np\n",
    "import matplotlib.pyplot as plt\n",
    "from sklearn.metrics import precision_score, recall_score\n",
    "\n",
    "thresholds = np.linspace(0, 1, 101)\n",
    "precisions = []\n",
    "recalls = []\n",
    "\n",
    "for t in thresholds:\n",
    "    preds = (y_pred_val >= t)\n",
    "    precisions.append(precision_score(y_val, preds))\n",
    "    recalls.append(recall_score(y_val, preds))\n",
    "\n",
    "# Plot Precision and Recall vs Threshold\n",
    "plt.figure(figsize=(8, 5))\n",
    "plt.plot(thresholds, precisions, label='Precision')\n",
    "plt.plot(thresholds, recalls, label='Recall')\n",
    "plt.xlabel('Threshold')\n",
    "plt.ylabel('Score')\n",
    "plt.legend()\n",
    "plt.title('Precision-Recall vs Threshold')\n",
    "plt.show()\n",
    "\n",
    "# Find where curves intersect (closest values)\n",
    "diff = np.abs(np.array(precisions) - np.array(recalls))\n",
    "threshold_intersect = thresholds[np.argmin(diff)]\n",
    "print(\"Precision–Recall intersection threshold:\", round(threshold_intersect, 3))\n"
   ]
  },
  {
   "cell_type": "markdown",
   "metadata": {},
   "source": [
    "## Question 4: F1 Score and Best Threshold"
   ]
  },
  {
   "cell_type": "code",
   "execution_count": 9,
   "metadata": {},
   "outputs": [
    {
     "data": {
      "image/png": "[encoded data removed]",
      "text/plain": [
       "<Figure size 576x360 with 1 Axes>"
      ]
     },
     "metadata": {
      "needs_background": "light"
     },
     "output_type": "display_data"
    },
    {
     "name": "stdout",
     "output_type": "stream",
     "text": [
      "Best F1: 0.848 at threshold: 0.47\n"
     ]
    }
   ],
   "source": [
    "f1_scores = []\n",
    "\n",
    "for p, r in zip(precisions, recalls):\n",
    "    if (p + r) == 0:\n",
    "        f1 = 0\n",
    "    else:\n",
    "        f1 = 2 * p * r / (p + r)\n",
    "    f1_scores.append(f1)\n",
    "\n",
    "best_threshold = thresholds[np.argmax(f1_scores)]\n",
    "best_f1 = np.max(f1_scores)\n",
    "\n",
    "plt.figure(figsize=(8, 5))\n",
    "plt.plot(thresholds, f1_scores, color='purple')\n",
    "plt.title('F1 Score vs Threshold')\n",
    "plt.xlabel('Threshold')\n",
    "plt.ylabel('F1 Score')\n",
    "plt.show()\n",
    "\n",
    "print(\"Best F1:\", round(best_f1, 3), \"at threshold:\", round(best_threshold, 3))\n"
   ]
  },
  {
   "cell_type": "markdown",
   "metadata": {},
   "source": [
    "## Question 5: 5-Fold Cross-Validation"
   ]
  },
  {
   "cell_type": "code",
   "execution_count": 11,
   "metadata": {},
   "outputs": [
    {
     "name": "stdout",
     "output_type": "stream",
     "text": [
      "AUC scores per fold: [0.807, 0.807, 0.865, 0.833, 0.815]\n",
      "Mean AUC: 0.825\n",
      "Std Dev: 0.022\n"
     ]
    }
   ],
   "source": [
    "# Combine training and validation sets into full training data\n",
    "df_full_train = pd.concat([df_train, df_val])\n",
    "y_full_train = np.concatenate([y_train, y_val])\n",
    "\n",
    "# Initialize KFold\n",
    "kfold = KFold(n_splits=5, shuffle=True, random_state=1)\n",
    "scores = []\n",
    "\n",
    "for train_idx, val_idx in kfold.split(df_full_train):\n",
    "    df_train_k = df_full_train.iloc[train_idx]\n",
    "    df_val_k = df_full_train.iloc[val_idx]\n",
    "    y_train_k = y_full_train[train_idx]\n",
    "    y_val_k = y_full_train[val_idx]\n",
    "    \n",
    "    # Encode\n",
    "    dv = DictVectorizer(sparse=False)\n",
    "    X_train_k = dv.fit_transform(df_train_k.to_dict(orient='records'))\n",
    "    X_val_k = dv.transform(df_val_k.to_dict(orient='records'))\n",
    "    \n",
    "    # Train\n",
    "    model = LogisticRegression(solver='liblinear', C=1.0, max_iter=1000)\n",
    "    model.fit(X_train_k, y_train_k)\n",
    "    \n",
    "    # Predict & evaluate\n",
    "    y_pred_k = model.predict_proba(X_val_k)[:, 1]\n",
    "    auc = roc_auc_score(y_val_k, y_pred_k)\n",
    "    scores.append(auc)\n",
    "\n",
    "print(\"AUC scores per fold:\", [round(s, 3) for s in scores])\n",
    "print(\"Mean AUC:\", round(np.mean(scores), 3))\n",
    "print(\"Std Dev:\", round(np.std(scores), 3))\n"
   ]
  },
  {
   "cell_type": "markdown",
   "metadata": {},
   "source": [
    "## Question 6: Hyperparameter Tuning (C Values)"
   ]
  },
  {
   "cell_type": "code",
   "execution_count": 12,
   "metadata": {},
   "outputs": [
    {
     "name": "stdout",
     "output_type": "stream",
     "text": [
      "C=0.000001 -> mean=0.543, std=0.025\n",
      "C=0.001000 -> mean=0.864, std=0.014\n",
      "C=1.000000 -> mean=0.825, std=0.022\n"
     ]
    }
   ],
   "source": [
    "C_values = [0.000001, 0.001, 1]\n",
    "results = []\n",
    "\n",
    "for C in C_values:\n",
    "    scores = []\n",
    "    kfold = KFold(n_splits=5, shuffle=True, random_state=1)\n",
    "    \n",
    "    for train_idx, val_idx in kfold.split(df_full_train):\n",
    "        df_train_k = df_full_train.iloc[train_idx]\n",
    "        df_val_k = df_full_train.iloc[val_idx]\n",
    "        y_train_k = y_full_train[train_idx]\n",
    "        y_val_k = y_full_train[val_idx]\n",
    "        \n",
    "        dv = DictVectorizer(sparse=False)\n",
    "        X_train_k = dv.fit_transform(df_train_k.to_dict(orient='records'))\n",
    "        X_val_k = dv.transform(df_val_k.to_dict(orient='records'))\n",
    "        \n",
    "        model = LogisticRegression(solver='liblinear', C=C, max_iter=1000)\n",
    "        model.fit(X_train_k, y_train_k)\n",
    "        y_pred_k = model.predict_proba(X_val_k)[:, 1]\n",
    "        auc = roc_auc_score(y_val_k, y_pred_k)\n",
    "        scores.append(auc)\n",
    "    \n",
    "    mean_score = round(np.mean(scores), 3)\n",
    "    std_score = round(np.std(scores), 3)\n",
    "    results.append((C, mean_score, std_score))\n",
    "\n",
    "for r in results:\n",
    "    print(f\"C={r[0]:.6f} -> mean={r[1]}, std={r[2]}\")\n"
   ]
  },
  {
   "cell_type": "code",
   "execution_count": null,
   "metadata": {},
   "outputs": [],
   "source": []
  }
 ],
 "metadata": {
  "kernelspec": {
   "display_name": "Python 3",
   "language": "python",
   "name": "python3"
  },
  "language_info": {
   "codemirror_mode": {
    "name": "ipython",
    "version": 3
   },
   "file_extension": ".py",
   "mimetype": "text/x-python",
   "name": "python",
   "nbconvert_exporter": "python",
   "pygments_lexer": "ipython3",
   "version": "3.7.3"
  }
 },
 "nbformat": 4,
 "nbformat_minor": 5
}
